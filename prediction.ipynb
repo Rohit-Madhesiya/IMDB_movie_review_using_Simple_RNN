{
 "cells": [
  {
   "cell_type": "code",
   "execution_count": 1,
   "metadata": {},
   "outputs": [],
   "source": [
    "import numpy as np \n",
    "import tensorflow as tf \n",
    "from tensorflow.keras.datasets import imdb \n",
    "from tensorflow.keras.preprocessing import sequence\n",
    "from tensorflow.keras.models import load_model"
   ]
  },
  {
   "cell_type": "markdown",
   "metadata": {},
   "source": [
    "Load the imdb data word index"
   ]
  },
  {
   "cell_type": "code",
   "execution_count": 2,
   "metadata": {},
   "outputs": [],
   "source": [
    "word_index=imdb.get_word_index()\n",
    "reverse_word_index={value:key for key,value in word_index.items()}"
   ]
  },
  {
   "cell_type": "markdown",
   "metadata": {},
   "source": [
    "Load the pre-trained model with ReLU activation function\n"
   ]
  },
  {
   "cell_type": "code",
   "execution_count": 3,
   "metadata": {},
   "outputs": [
    {
     "name": "stderr",
     "output_type": "stream",
     "text": [
      "WARNING:absl:Compiled the loaded model, but the compiled metrics have yet to be built. `model.compile_metrics` will be empty until you train or evaluate the model.\n"
     ]
    },
    {
     "data": {
      "text/html": [
       "<pre style=\"white-space:pre;overflow-x:auto;line-height:normal;font-family:Menlo,'DejaVu Sans Mono',consolas,'Courier New',monospace\"><span style=\"font-weight: bold\">Model: \"sequential\"</span>\n",
       "</pre>\n"
      ],
      "text/plain": [
       "\u001b[1mModel: \"sequential\"\u001b[0m\n"
      ]
     },
     "metadata": {},
     "output_type": "display_data"
    },
    {
     "data": {
      "text/html": [
       "<pre style=\"white-space:pre;overflow-x:auto;line-height:normal;font-family:Menlo,'DejaVu Sans Mono',consolas,'Courier New',monospace\">┏━━━━━━━━━━━━━━━━━━━━━━━━━━━━━━━━━┳━━━━━━━━━━━━━━━━━━━━━━━━┳━━━━━━━━━━━━━━━┓\n",
       "┃<span style=\"font-weight: bold\"> Layer (type)                    </span>┃<span style=\"font-weight: bold\"> Output Shape           </span>┃<span style=\"font-weight: bold\">       Param # </span>┃\n",
       "┡━━━━━━━━━━━━━━━━━━━━━━━━━━━━━━━━━╇━━━━━━━━━━━━━━━━━━━━━━━━╇━━━━━━━━━━━━━━━┩\n",
       "│ embedding (<span style=\"color: #0087ff; text-decoration-color: #0087ff\">Embedding</span>)           │ (<span style=\"color: #00d7ff; text-decoration-color: #00d7ff\">None</span>, <span style=\"color: #00af00; text-decoration-color: #00af00\">500</span>, <span style=\"color: #00af00; text-decoration-color: #00af00\">128</span>)       │     <span style=\"color: #00af00; text-decoration-color: #00af00\">1,280,000</span> │\n",
       "├─────────────────────────────────┼────────────────────────┼───────────────┤\n",
       "│ simple_rnn (<span style=\"color: #0087ff; text-decoration-color: #0087ff\">SimpleRNN</span>)          │ (<span style=\"color: #00d7ff; text-decoration-color: #00d7ff\">None</span>, <span style=\"color: #00af00; text-decoration-color: #00af00\">128</span>)            │        <span style=\"color: #00af00; text-decoration-color: #00af00\">32,896</span> │\n",
       "├─────────────────────────────────┼────────────────────────┼───────────────┤\n",
       "│ dense (<span style=\"color: #0087ff; text-decoration-color: #0087ff\">Dense</span>)                   │ (<span style=\"color: #00d7ff; text-decoration-color: #00d7ff\">None</span>, <span style=\"color: #00af00; text-decoration-color: #00af00\">1</span>)              │           <span style=\"color: #00af00; text-decoration-color: #00af00\">129</span> │\n",
       "└─────────────────────────────────┴────────────────────────┴───────────────┘\n",
       "</pre>\n"
      ],
      "text/plain": [
       "┏━━━━━━━━━━━━━━━━━━━━━━━━━━━━━━━━━┳━━━━━━━━━━━━━━━━━━━━━━━━┳━━━━━━━━━━━━━━━┓\n",
       "┃\u001b[1m \u001b[0m\u001b[1mLayer (type)                   \u001b[0m\u001b[1m \u001b[0m┃\u001b[1m \u001b[0m\u001b[1mOutput Shape          \u001b[0m\u001b[1m \u001b[0m┃\u001b[1m \u001b[0m\u001b[1m      Param #\u001b[0m\u001b[1m \u001b[0m┃\n",
       "┡━━━━━━━━━━━━━━━━━━━━━━━━━━━━━━━━━╇━━━━━━━━━━━━━━━━━━━━━━━━╇━━━━━━━━━━━━━━━┩\n",
       "│ embedding (\u001b[38;5;33mEmbedding\u001b[0m)           │ (\u001b[38;5;45mNone\u001b[0m, \u001b[38;5;34m500\u001b[0m, \u001b[38;5;34m128\u001b[0m)       │     \u001b[38;5;34m1,280,000\u001b[0m │\n",
       "├─────────────────────────────────┼────────────────────────┼───────────────┤\n",
       "│ simple_rnn (\u001b[38;5;33mSimpleRNN\u001b[0m)          │ (\u001b[38;5;45mNone\u001b[0m, \u001b[38;5;34m128\u001b[0m)            │        \u001b[38;5;34m32,896\u001b[0m │\n",
       "├─────────────────────────────────┼────────────────────────┼───────────────┤\n",
       "│ dense (\u001b[38;5;33mDense\u001b[0m)                   │ (\u001b[38;5;45mNone\u001b[0m, \u001b[38;5;34m1\u001b[0m)              │           \u001b[38;5;34m129\u001b[0m │\n",
       "└─────────────────────────────────┴────────────────────────┴───────────────┘\n"
      ]
     },
     "metadata": {},
     "output_type": "display_data"
    },
    {
     "data": {
      "text/html": [
       "<pre style=\"white-space:pre;overflow-x:auto;line-height:normal;font-family:Menlo,'DejaVu Sans Mono',consolas,'Courier New',monospace\"><span style=\"font-weight: bold\"> Total params: </span><span style=\"color: #00af00; text-decoration-color: #00af00\">1,313,027</span> (5.01 MB)\n",
       "</pre>\n"
      ],
      "text/plain": [
       "\u001b[1m Total params: \u001b[0m\u001b[38;5;34m1,313,027\u001b[0m (5.01 MB)\n"
      ]
     },
     "metadata": {},
     "output_type": "display_data"
    },
    {
     "data": {
      "text/html": [
       "<pre style=\"white-space:pre;overflow-x:auto;line-height:normal;font-family:Menlo,'DejaVu Sans Mono',consolas,'Courier New',monospace\"><span style=\"font-weight: bold\"> Trainable params: </span><span style=\"color: #00af00; text-decoration-color: #00af00\">1,313,025</span> (5.01 MB)\n",
       "</pre>\n"
      ],
      "text/plain": [
       "\u001b[1m Trainable params: \u001b[0m\u001b[38;5;34m1,313,025\u001b[0m (5.01 MB)\n"
      ]
     },
     "metadata": {},
     "output_type": "display_data"
    },
    {
     "data": {
      "text/html": [
       "<pre style=\"white-space:pre;overflow-x:auto;line-height:normal;font-family:Menlo,'DejaVu Sans Mono',consolas,'Courier New',monospace\"><span style=\"font-weight: bold\"> Non-trainable params: </span><span style=\"color: #00af00; text-decoration-color: #00af00\">0</span> (0.00 B)\n",
       "</pre>\n"
      ],
      "text/plain": [
       "\u001b[1m Non-trainable params: \u001b[0m\u001b[38;5;34m0\u001b[0m (0.00 B)\n"
      ]
     },
     "metadata": {},
     "output_type": "display_data"
    },
    {
     "data": {
      "text/html": [
       "<pre style=\"white-space:pre;overflow-x:auto;line-height:normal;font-family:Menlo,'DejaVu Sans Mono',consolas,'Courier New',monospace\"><span style=\"font-weight: bold\"> Optimizer params: </span><span style=\"color: #00af00; text-decoration-color: #00af00\">2</span> (12.00 B)\n",
       "</pre>\n"
      ],
      "text/plain": [
       "\u001b[1m Optimizer params: \u001b[0m\u001b[38;5;34m2\u001b[0m (12.00 B)\n"
      ]
     },
     "metadata": {},
     "output_type": "display_data"
    }
   ],
   "source": [
    "model=load_model('simple_rnn_imdb.h5')\n",
    "model.summary()"
   ]
  },
  {
   "cell_type": "code",
   "execution_count": 5,
   "metadata": {},
   "outputs": [
    {
     "data": {
      "text/plain": [
       "[array([[-1.6952593 ,  0.05781326,  0.25456515, ..., -0.14954098,\n",
       "         -0.15313372, -0.18955974],\n",
       "        [-0.07934195,  0.04647155, -0.0135631 , ...,  0.03766669,\n",
       "         -0.05478433, -0.03733981],\n",
       "        [-0.26313356,  0.1342838 ,  0.1689665 , ...,  0.02552241,\n",
       "         -0.17336738, -0.17640302],\n",
       "        ...,\n",
       "        [ 0.10455158, -0.08602513, -0.09786396, ...,  0.00758242,\n",
       "          0.04251535, -0.00206758],\n",
       "        [ 0.05278288,  0.00998199, -0.0953418 , ..., -0.04034844,\n",
       "          0.08442208,  0.03253047],\n",
       "        [ 0.13548204,  0.15039611, -0.1393731 , ...,  0.14828008,\n",
       "          0.03438018,  0.09749231]], dtype=float32),\n",
       " array([[ 0.14613687, -0.04810241,  0.03842618, ...,  0.14897376,\n",
       "         -0.05224302,  0.00598787],\n",
       "        [ 0.1039537 , -0.02998089,  0.19612423, ..., -0.12514752,\n",
       "          0.01560997,  0.04180527],\n",
       "        [-0.03979678,  0.01573334, -0.09114475, ...,  0.09363193,\n",
       "          0.06264949, -0.16794543],\n",
       "        ...,\n",
       "        [-0.11915021,  0.09226407,  0.03917079, ...,  0.16133249,\n",
       "         -0.02987905,  0.03025876],\n",
       "        [-0.11187134, -0.03536441, -0.03115071, ...,  0.17441905,\n",
       "          0.12912239, -0.11981091],\n",
       "        [-0.02579267, -0.08388299,  0.1064689 , ..., -0.04591698,\n",
       "         -0.04350554,  0.10302138]], dtype=float32),\n",
       " array([[-0.0222007 , -0.09037198, -0.03674195, ..., -0.21039689,\n",
       "          0.06429847,  0.15940927],\n",
       "        [-0.04864914,  0.08859254, -0.00839798, ...,  0.06800323,\n",
       "         -0.01877411, -0.04592854],\n",
       "        [-0.12983257,  0.04001451, -0.15297167, ..., -0.01023063,\n",
       "          0.06574296,  0.0091393 ],\n",
       "        ...,\n",
       "        [-0.12184306,  0.1420084 , -0.03425677, ...,  0.00981466,\n",
       "         -0.0069716 , -0.14965804],\n",
       "        [-0.1536073 , -0.12443816, -0.01970636, ...,  0.01521673,\n",
       "         -0.01065962, -0.01244857],\n",
       "        [ 0.00163761, -0.11594947, -0.02729281, ..., -0.15148608,\n",
       "          0.06493569,  0.08601519]], dtype=float32),\n",
       " array([-1.54229917e-03, -3.83972339e-02, -1.45440409e-02,  1.55393938e-02,\n",
       "        -7.79943168e-02,  1.11000845e-02, -8.46631732e-03, -1.92636792e-02,\n",
       "        -1.22452648e-02,  1.53443050e-02,  3.27194184e-02, -6.20601699e-02,\n",
       "        -2.78768241e-02,  5.49303368e-03, -2.76019778e-02, -2.61412952e-02,\n",
       "        -1.00779466e-01, -5.83440959e-02,  1.24173351e-02, -5.61304353e-02,\n",
       "        -1.02613857e-02, -4.85372618e-02, -1.14053311e-02, -4.47906852e-02,\n",
       "        -9.76168588e-02, -1.39796594e-02, -6.25225976e-02, -9.05452222e-02,\n",
       "        -4.63777296e-02, -1.02510620e-02, -4.10515070e-02, -4.64102589e-02,\n",
       "         4.07512262e-02, -4.79204729e-02,  5.71227148e-02, -3.31628099e-02,\n",
       "         2.21029157e-03,  5.68853691e-02, -1.12838950e-02, -6.02594204e-02,\n",
       "        -3.18107195e-02,  3.75318751e-02, -2.54866648e-02,  2.14161444e-03,\n",
       "        -4.39249277e-02, -2.66868789e-02, -5.70541024e-02,  3.01320627e-02,\n",
       "        -2.40864251e-02, -2.39970349e-02, -1.96783077e-02, -6.28116168e-03,\n",
       "         8.20398852e-02,  2.49795839e-02, -3.72363231e-03,  7.23761618e-02,\n",
       "        -6.24907650e-02, -3.98158394e-02, -1.90868564e-02, -4.57956493e-02,\n",
       "        -4.08648960e-02,  2.61892788e-02,  1.54952146e-02, -5.74147031e-02,\n",
       "        -8.01689029e-02, -3.35399136e-02,  2.15757303e-02,  5.62498309e-02,\n",
       "         2.70596799e-02, -1.56898629e-02,  4.56047393e-02, -6.83631748e-02,\n",
       "        -1.20154237e-02,  3.70180160e-02, -3.02302912e-02,  1.59214381e-02,\n",
       "        -3.10338587e-02,  7.20035241e-05, -3.81803475e-02, -1.85384732e-02,\n",
       "        -2.56254505e-02,  1.77493617e-02, -6.59744516e-02, -3.49220522e-02,\n",
       "         3.54443677e-02, -2.50532497e-02, -1.25177577e-02, -5.99887185e-02,\n",
       "         2.98594944e-02, -1.29076065e-02, -4.00323011e-02,  1.34704392e-02,\n",
       "        -4.25033458e-02, -6.07588217e-02,  5.11219613e-02, -4.02334929e-02,\n",
       "         6.69769105e-03, -5.27085224e-03,  7.65662864e-02, -1.12275183e-02,\n",
       "        -3.78114395e-02,  3.28582413e-02, -2.66115367e-02,  2.01131068e-02,\n",
       "         2.44350056e-03,  5.99241108e-02, -4.92279083e-02, -8.52491427e-03,\n",
       "        -3.92834246e-02, -5.04119098e-02, -3.71623747e-02, -5.87073714e-02,\n",
       "         5.15102521e-02,  4.22026180e-02, -1.21239398e-03, -1.65234897e-02,\n",
       "         2.90440372e-03, -5.37858419e-02,  8.84623826e-02,  6.56042099e-02,\n",
       "        -6.02467358e-02, -4.52287756e-02, -3.93318012e-02,  4.25060000e-03,\n",
       "        -3.61989960e-02, -4.61869314e-02,  1.18938053e-03,  2.57115271e-02],\n",
       "       dtype=float32),\n",
       " array([[ 3.09379816e-01],\n",
       "        [-1.28382474e-01],\n",
       "        [ 1.00498073e-01],\n",
       "        [-2.17086732e-01],\n",
       "        [-1.06514409e-01],\n",
       "        [ 5.32967746e-02],\n",
       "        [ 7.26279849e-03],\n",
       "        [ 1.27843648e-01],\n",
       "        [-3.04230545e-02],\n",
       "        [-4.03120480e-02],\n",
       "        [-4.23788577e-02],\n",
       "        [-4.73714083e-01],\n",
       "        [-1.20826505e-01],\n",
       "        [ 1.63666978e-01],\n",
       "        [-1.48018241e-01],\n",
       "        [-1.56619236e-01],\n",
       "        [-1.51202008e-02],\n",
       "        [-6.42827153e-02],\n",
       "        [-1.29935712e-01],\n",
       "        [-6.95221545e-03],\n",
       "        [-3.59462090e-02],\n",
       "        [ 5.16843945e-02],\n",
       "        [ 4.87688147e-02],\n",
       "        [-6.37211055e-02],\n",
       "        [ 4.10153046e-02],\n",
       "        [-2.16529325e-01],\n",
       "        [ 4.84700501e-02],\n",
       "        [-1.38129219e-01],\n",
       "        [ 2.46220324e-02],\n",
       "        [ 5.07232904e-01],\n",
       "        [ 2.85630170e-02],\n",
       "        [-1.74861506e-01],\n",
       "        [-2.36629043e-02],\n",
       "        [ 8.98685008e-02],\n",
       "        [ 2.33202409e-02],\n",
       "        [-4.15675864e-02],\n",
       "        [-1.46566749e-01],\n",
       "        [ 5.26808128e-02],\n",
       "        [-2.29876488e-01],\n",
       "        [ 7.78020144e-01],\n",
       "        [ 2.01199487e-01],\n",
       "        [-1.82791784e-01],\n",
       "        [ 2.65216768e-01],\n",
       "        [ 2.92944326e-03],\n",
       "        [-2.29639411e-01],\n",
       "        [-9.61853787e-02],\n",
       "        [-1.05009839e-01],\n",
       "        [ 1.54419821e-02],\n",
       "        [-4.63702600e-04],\n",
       "        [ 1.03020724e-02],\n",
       "        [-1.79848954e-01],\n",
       "        [-3.75976056e-01],\n",
       "        [ 2.67677158e-01],\n",
       "        [ 9.80916433e-03],\n",
       "        [-1.04429699e-01],\n",
       "        [ 1.13677591e-01],\n",
       "        [-9.13374573e-02],\n",
       "        [-6.51309639e-02],\n",
       "        [-1.74744576e-01],\n",
       "        [-3.07800919e-01],\n",
       "        [ 1.49829024e-02],\n",
       "        [ 1.35948777e-01],\n",
       "        [ 8.02023709e-02],\n",
       "        [ 1.75527867e-03],\n",
       "        [-1.30092874e-01],\n",
       "        [-1.22682348e-01],\n",
       "        [ 1.18086450e-01],\n",
       "        [ 1.11711621e-01],\n",
       "        [-1.31680071e-01],\n",
       "        [-9.29751992e-02],\n",
       "        [-1.18713319e-01],\n",
       "        [ 3.99554521e-02],\n",
       "        [ 1.66627347e-01],\n",
       "        [ 8.87663960e-02],\n",
       "        [ 6.27104267e-02],\n",
       "        [ 1.88274264e-01],\n",
       "        [-1.62158072e-01],\n",
       "        [ 1.66102406e-02],\n",
       "        [-1.82399694e-02],\n",
       "        [ 1.53329885e-02],\n",
       "        [-1.85484394e-01],\n",
       "        [-1.85120121e-01],\n",
       "        [ 1.31565392e-01],\n",
       "        [-3.91274579e-02],\n",
       "        [-1.98478639e-01],\n",
       "        [-3.77678243e-03],\n",
       "        [ 7.98625797e-02],\n",
       "        [-6.13696054e-02],\n",
       "        [ 2.41798520e-01],\n",
       "        [-5.43064363e-02],\n",
       "        [-3.17054152e-01],\n",
       "        [-1.59594044e-01],\n",
       "        [-1.37467965e-01],\n",
       "        [-7.38271372e-03],\n",
       "        [-5.67065179e-01],\n",
       "        [ 5.68956174e-02],\n",
       "        [ 2.58219868e-01],\n",
       "        [-3.71899866e-02],\n",
       "        [-2.69619506e-02],\n",
       "        [ 6.54863566e-02],\n",
       "        [ 1.19429521e-01],\n",
       "        [-2.48595723e-04],\n",
       "        [-1.54084554e-02],\n",
       "        [ 1.89826176e-01],\n",
       "        [-9.55758542e-02],\n",
       "        [ 1.24914452e-01],\n",
       "        [-1.20699942e-01],\n",
       "        [ 9.04953182e-02],\n",
       "        [ 4.54169437e-02],\n",
       "        [-4.67619859e-02],\n",
       "        [-1.08985506e-01],\n",
       "        [-1.87260285e-01],\n",
       "        [ 1.44207329e-01],\n",
       "        [ 1.71949998e-01],\n",
       "        [ 1.46757677e-01],\n",
       "        [ 5.63190058e-02],\n",
       "        [-2.25095391e-01],\n",
       "        [-1.71502382e-01],\n",
       "        [ 2.96142548e-02],\n",
       "        [-1.84117824e-01],\n",
       "        [-4.71550971e-02],\n",
       "        [-1.29394948e-01],\n",
       "        [ 4.16397788e-02],\n",
       "        [-6.86180741e-02],\n",
       "        [ 1.40257627e-02],\n",
       "        [ 1.07581228e-01],\n",
       "        [ 4.70754988e-02],\n",
       "        [-1.57422662e-01]], dtype=float32),\n",
       " array([-2.3564067], dtype=float32)]"
      ]
     },
     "execution_count": 5,
     "metadata": {},
     "output_type": "execute_result"
    }
   ],
   "source": [
    "model.get_weights()"
   ]
  },
  {
   "cell_type": "code",
   "execution_count": 6,
   "metadata": {},
   "outputs": [],
   "source": [
    "# Function for decoding reviews\n",
    "def decode_review(encoded_review):\n",
    "  return ' '.join([reverse_word_index.get(i-3,'?') for i in encoded_review])"
   ]
  },
  {
   "cell_type": "code",
   "execution_count": 8,
   "metadata": {},
   "outputs": [],
   "source": [
    "# Function for preprocessing the user input\n",
    "def preprocess_text(user_input):\n",
    "  words=user_input.lower().split()\n",
    "  encoded_review=[word_index.get(word,2)+3 for word in words]\n",
    "  padded_review=sequence.pad_sequences([encoded_review],maxlen=500)\n",
    "  return padded_review"
   ]
  },
  {
   "cell_type": "markdown",
   "metadata": {},
   "source": [
    "Prediction Function"
   ]
  },
  {
   "cell_type": "code",
   "execution_count": 9,
   "metadata": {},
   "outputs": [],
   "source": [
    "def predict_sentiment(review):\n",
    "  preprocessed_input=preprocess_text(review)\n",
    "  prediction=model.predict(preprocessed_input)\n",
    "  sentiment='Positive' if prediction[0][0]>0.5 else 'Negative'\n",
    "  return sentiment,prediction[0][0]"
   ]
  },
  {
   "cell_type": "markdown",
   "metadata": {},
   "source": [
    "Prediction Example"
   ]
  },
  {
   "cell_type": "code",
   "execution_count": 12,
   "metadata": {},
   "outputs": [
    {
     "name": "stdout",
     "output_type": "stream",
     "text": [
      "\u001b[1m1/1\u001b[0m \u001b[32m━━━━━━━━━━━━━━━━━━━━\u001b[0m\u001b[37m\u001b[0m \u001b[1m1s\u001b[0m 512ms/step\n",
      "Review: This movie was fantastic! The acting was great and the plot was thrilling.\n",
      "Sentiment: Positive\n",
      "Prediction Score: 0.7345321774482727\n"
     ]
    }
   ],
   "source": [
    "input_review=\"This movie was fantastic! The acting was great and the plot was thrilling.\"\n",
    "\n",
    "sentiment,prediction_score=predict_sentiment(input_review)\n",
    "\n",
    "print(f'Review: {input_review}')\n",
    "print(f'Sentiment: {sentiment}')\n",
    "print(f'Prediction Score: {prediction_score}')\n"
   ]
  }
 ],
 "metadata": {
  "kernelspec": {
   "display_name": "myenv",
   "language": "python",
   "name": "python3"
  },
  "language_info": {
   "codemirror_mode": {
    "name": "ipython",
    "version": 3
   },
   "file_extension": ".py",
   "mimetype": "text/x-python",
   "name": "python",
   "nbconvert_exporter": "python",
   "pygments_lexer": "ipython3",
   "version": "3.11.0"
  }
 },
 "nbformat": 4,
 "nbformat_minor": 2
}
